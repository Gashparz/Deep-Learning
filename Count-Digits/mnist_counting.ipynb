{
  "nbformat": 4,
  "nbformat_minor": 0,
  "metadata": {
    "colab": {
      "name": "mnist counting.ipynb",
      "provenance": [],
      "collapsed_sections": []
    },
    "kernelspec": {
      "name": "python3",
      "display_name": "Python 3"
    },
    "language_info": {
      "name": "python"
    },
    "accelerator": "GPU"
  },
  "cells": [
    {
      "cell_type": "code",
      "metadata": {
        "id": "WJ2EUvSOOXrE"
      },
      "source": [
        "from __future__ import print_function\n",
        "import argparse\n",
        "import torch\n",
        "import torch.nn as nn\n",
        "import torch.nn.functional as F\n",
        "import torch.optim as optim\n",
        "from torchvision import datasets, transforms\n",
        "from IPython.core.debugger import set_trace\n",
        "import numpy as np\n",
        "from matplotlib import pyplot"
      ],
      "execution_count": null,
      "outputs": []
    },
    {
      "cell_type": "code",
      "metadata": {
        "colab": {
          "base_uri": "https://localhost:8080/"
        },
        "id": "dQVNcs6HOg_0",
        "outputId": "e0bb2c41-9365-4f0e-d118-44145a35112f"
      },
      "source": [
        "from google.colab import drive\n",
        "drive.mount('/content/gdrive')"
      ],
      "execution_count": null,
      "outputs": [
        {
          "output_type": "stream",
          "text": [
            "Mounted at /content/gdrive\n"
          ],
          "name": "stdout"
        }
      ]
    },
    {
      "cell_type": "code",
      "metadata": {
        "id": "WlqPb8rh90Bu"
      },
      "source": [
        "kwargs={}\n",
        "class Args():\n",
        "  def __init__(self):\n",
        "      self.batch_size = 64\n",
        "      self.test_batch_size = 64\n",
        "      self.epochs = 10\n",
        "      self.lr = 0.01\n",
        "      self.momentum = 0.9\n",
        "      self.seed = 1\n",
        "      self.log_interval = int(10000 / self.batch_size)\n",
        "      self.cuda = False\n",
        " \n",
        "args = Args()\n",
        " \n",
        "use_cuda = torch.cuda.is_available()\n",
        "torch.manual_seed(args.seed)\n",
        "device = torch.device(\"cuda\" if use_cuda else \"cpu\")\n",
        " \n",
        "kwargs = {'num_workers': 1, 'pin_memory': True} if use_cuda else {}"
      ],
      "execution_count": null,
      "outputs": []
    },
    {
      "cell_type": "code",
      "metadata": {
        "id": "zOo65zym9hv2"
      },
      "source": [
        "no_filters1 = 20\n",
        "no_filter2 = 50\n",
        "no_neurons1 = 500\n",
        "class CNN(nn.Module):\n",
        "    # the init() is called a single time, when you create the model\n",
        "    # so all the layers should be created here.\n",
        "    def __init__(self):\n",
        "        super().__init__()\n",
        "        self.conv1 = nn.Conv2d(in_channels = 1, out_channels = no_filters1, kernel_size = 5, stride = 1)\n",
        "        self.conv2 = nn.Conv2d(no_filters1, no_filter2, 5, 1)\n",
        "        self.fc1 = nn.Linear(in_features = 4 * 4 * no_filter2, out_features = no_neurons1)\n",
        "        self.fc2 = nn.Linear(in_features = no_neurons1, out_features = 10)\n",
        "    # the forward() is called at each iteration, so we only apply the already\n",
        "    # created operations inside this function \n",
        "    def forward(self, x):\n",
        "        x = F.relu(self.conv1(x))\n",
        "        x = F.max_pool2d(x, 2, 2)\n",
        "        x = F.relu(self.conv2(x))\n",
        "        x = F.max_pool2d(x, 2, 2)\n",
        "        x = x.view(-1, 4*4*no_filter2)\n",
        "        x = F.relu(self.fc1(x))\n",
        "        x = self.fc2(x)\n",
        "        return F.log_softmax(x, dim=1)"
      ],
      "execution_count": null,
      "outputs": []
    },
    {
      "cell_type": "markdown",
      "metadata": {
        "id": "2AH6SValEbww"
      },
      "source": [
        "Salvam MNIST dataset "
      ]
    },
    {
      "cell_type": "code",
      "metadata": {
        "colab": {
          "base_uri": "https://localhost:8080/"
        },
        "id": "rj6o5b0l9kUu",
        "outputId": "8746e88b-fc5e-4ff5-835e-c34acf07a4cb"
      },
      "source": [
        "!wget www.di.ens.fr/~lelarge/MNIST.tar.gz\n",
        "!tar -zxvf MNIST.tar.gz"
      ],
      "execution_count": null,
      "outputs": [
        {
          "output_type": "stream",
          "text": [
            "--2021-04-01 17:24:32--  http://www.di.ens.fr/~lelarge/MNIST.tar.gz\n",
            "Resolving www.di.ens.fr (www.di.ens.fr)... 129.199.99.14\n",
            "Connecting to www.di.ens.fr (www.di.ens.fr)|129.199.99.14|:80... connected.\n",
            "HTTP request sent, awaiting response... 302 Found\n",
            "Location: https://www.di.ens.fr/~lelarge/MNIST.tar.gz [following]\n",
            "--2021-04-01 17:24:32--  https://www.di.ens.fr/~lelarge/MNIST.tar.gz\n",
            "Connecting to www.di.ens.fr (www.di.ens.fr)|129.199.99.14|:443... connected.\n",
            "HTTP request sent, awaiting response... 200 OK\n",
            "Length: unspecified [application/x-gzip]\n",
            "Saving to: ‘MNIST.tar.gz’\n",
            "\n",
            "MNIST.tar.gz            [         <=>        ]  33.20M  6.44MB/s    in 6.2s    \n",
            "\n",
            "2021-04-01 17:24:40 (5.40 MB/s) - ‘MNIST.tar.gz’ saved [34813078]\n",
            "\n",
            "MNIST/\n",
            "MNIST/raw/\n",
            "MNIST/raw/train-labels-idx1-ubyte\n",
            "MNIST/raw/t10k-labels-idx1-ubyte.gz\n",
            "MNIST/raw/t10k-labels-idx1-ubyte\n",
            "MNIST/raw/t10k-images-idx3-ubyte.gz\n",
            "MNIST/raw/train-images-idx3-ubyte\n",
            "MNIST/raw/train-labels-idx1-ubyte.gz\n",
            "MNIST/raw/t10k-images-idx3-ubyte\n",
            "MNIST/raw/train-images-idx3-ubyte.gz\n",
            "MNIST/processed/\n",
            "MNIST/processed/training.pt\n",
            "MNIST/processed/test.pt\n"
          ],
          "name": "stdout"
        }
      ]
    },
    {
      "cell_type": "code",
      "metadata": {
        "colab": {
          "base_uri": "https://localhost:8080/",
          "height": 126
        },
        "id": "xoJ77_o39vbu",
        "outputId": "3b982a13-7490-4f69-b285-b2fa0ac51ce5"
      },
      "source": [
        "train_loader = torch.utils.data.DataLoader(\n",
        "    datasets.MNIST('./', train=True, download=True,\n",
        "                   transform=transforms.Compose([\n",
        "                       transforms.ToTensor(),\n",
        "                       \n",
        "                   ])),\n",
        "    batch_size=args.batch_size, shuffle=True,drop_last=True, **kwargs)\n",
        "\n",
        "test_loader = torch.utils.data.DataLoader(\n",
        "    datasets.MNIST('./', train=False, transform=transforms.Compose([\n",
        "                       transforms.ToTensor(),\n",
        "                   ])),\n",
        "    batch_size=args.test_batch_size, shuffle=False,drop_last=True, **kwargs)\n",
        "\n",
        "first_train_batch_imgs, first_train_batch_labels = next(iter(train_loader))\n",
        "# set_trace()\n",
        "\n",
        "f, axarr = pyplot.subplots(1,5)\n",
        "for i in range(5):\n",
        "  axarr[i].imshow(first_train_batch_imgs[i,0])\n",
        "print(f'Labels of the shown images: {first_train_batch_labels[:5]}')\n"
      ],
      "execution_count": null,
      "outputs": [
        {
          "output_type": "stream",
          "text": [
            "Labels of the shown images: tensor([6, 1, 4, 0, 7])\n"
          ],
          "name": "stdout"
        },
        {
          "output_type": "display_data",
          "data": {
            "image/png": "[encoded data removed]",
            "text/plain": [
              "<Figure size 432x288 with 5 Axes>"
            ]
          },
          "metadata": {
            "tags": [],
            "needs_background": "light"
          }
        }
      ]
    },
    {
      "cell_type": "markdown",
      "metadata": {
        "id": "WiQ70aCLEYPI"
      },
      "source": [
        "Cream functii pentru train si test"
      ]
    },
    {
      "cell_type": "code",
      "metadata": {
        "id": "A5ldHZzp98JO"
      },
      "source": [
        "def train(args, model, device, train_loader, optimizer, epoch):\n",
        "    model.train()\n",
        "    all_losses = []\n",
        "    for batch_idx, (data, target) in enumerate(train_loader):\n",
        "        # put the data on the GPU\n",
        "        data, target = data.to(device), target.to(device)\n",
        "        # initialize as zeros all the gradients of the model\n",
        "        optimizer.zero_grad()\n",
        "        \n",
        "        # obtain the predictions in the FORWARD pass of the network\n",
        "        output = model(data)\n",
        "        # compute average LOSS for the current batch\n",
        "        loss = F.nll_loss(output, target)\n",
        "        all_losses.append(loss.detach().cpu().numpy())\n",
        "        # BACKPROPAGATE the gradients\n",
        "        loss.backward()\n",
        "        # use the computed gradients to OPTIMISE the model\n",
        "        optimizer.step()\n",
        "        # print the training loss of each batch\n",
        "        if batch_idx % args.log_interval == 0:\n",
        "            print('Train Epoch: {} [{}/{} ({:.0f}%)]\\tLoss: {:.6f}'.format(\n",
        "                epoch, batch_idx * len(data), len(train_loader.dataset),\n",
        "                100. * batch_idx / len(train_loader), loss.item()))\n",
        "    return np.array(all_losses).mean()\n",
        "\n",
        "def test(args, model, device, test_loader):\n",
        "    model.eval()\n",
        "    test_loss = 0\n",
        "    correct = 0\n",
        "    with torch.no_grad():\n",
        "        num_iter = 0\n",
        "        for data, target in test_loader:\n",
        "            data, target = data.to(device), target.to(device)\n",
        "            # obtain the prediction by a forward pass\n",
        "            output = model(data)\n",
        "            # calculate the loss for the current batch and add it across the entire dataset\n",
        "            test_loss += F.nll_loss(output, target) # sum up batch loss\n",
        "            # compute the accuracy of the predictions across the entire dataset\n",
        "            # get the most probable prediction\n",
        "            pred = output.argmax(dim=1, keepdim=True) # get the index of the max log-probability\n",
        "            correct += pred.eq(target.view_as(pred)).float().mean().item()\n",
        "            num_iter += 1\n",
        "    test_loss /= num_iter\n",
        "    test_accuracy = 100. * correct / num_iter\n",
        "    # print the Accuracy for the entire dataset\n",
        "    print('\\nTest set: Average loss: {:.4f}, Accuracy: ({:.0f}%)\\n'.format(\n",
        "        test_loss,\n",
        "        test_accuracy))\n",
        "    return test_loss, test_accuracy"
      ],
      "execution_count": null,
      "outputs": []
    },
    {
      "cell_type": "markdown",
      "metadata": {
        "id": "3ld8f1FNEWO5"
      },
      "source": [
        "Salvam modelul "
      ]
    },
    {
      "cell_type": "code",
      "metadata": {
        "colab": {
          "base_uri": "https://localhost:8080/",
          "height": 1000
        },
        "id": "XLB6b84i9_JM",
        "outputId": "105521c9-5820-4c63-b78d-10aa009604d1"
      },
      "source": [
        "def plot_loss(loss, label, color='blue'):\n",
        "    pyplot.plot(loss, label=label, color=color)\n",
        "    pyplot.legend()\n",
        "\n",
        "# move the model to the GPU (when available)\n",
        "model = CNN().to(device)\n",
        "# create an Stochastic Gradient Descent optimiser\n",
        "optimizer = optim.SGD(model.parameters(), lr=args.lr, momentum=args.momentum)\n",
        "\n",
        "losses_train = []\n",
        "losses_test = []\n",
        "accuracy_test = []\n",
        "for epoch in range(1, args.epochs + 1):\n",
        "# for epoch in range(1, 3):\n",
        "    train_loss = train(args, model, device, train_loader, optimizer, epoch)\n",
        "    test_loss, test_accuracy = test(args, model, device, test_loader)\n",
        "    losses_train.append(train_loss)\n",
        "    losses_test.append(test_loss)\n",
        "    accuracy_test.append(test_accuracy)\n",
        "\n",
        "#plot the loss/accuracy    \n",
        "pyplot.figure(1)\n",
        "plot_loss(losses_train,'train_loss','red')\n",
        "plot_loss(losses_test,'test_loss')\n",
        "pyplot.figure(2)\n",
        "plot_loss(accuracy_test,'test_accuracy')\n",
        "\n",
        "# save the final model\n",
        "torch.save(model.state_dict(),\"mnist.pt\")"
      ],
      "execution_count": null,
      "outputs": [
        {
          "output_type": "stream",
          "text": [
            "Train Epoch: 1 [0/60000 (0%)]\tLoss: 2.306483\n",
            "Train Epoch: 1 [9984/60000 (17%)]\tLoss: 0.368935\n",
            "Train Epoch: 1 [19968/60000 (33%)]\tLoss: 0.135130\n",
            "Train Epoch: 1 [29952/60000 (50%)]\tLoss: 0.149327\n",
            "Train Epoch: 1 [39936/60000 (67%)]\tLoss: 0.118744\n",
            "Train Epoch: 1 [49920/60000 (83%)]\tLoss: 0.159381\n",
            "Train Epoch: 1 [59904/60000 (100%)]\tLoss: 0.120870\n",
            "\n",
            "Test set: Average loss: 0.0690, Accuracy: (98%)\n",
            "\n",
            "Train Epoch: 2 [0/60000 (0%)]\tLoss: 0.086085\n",
            "Train Epoch: 2 [9984/60000 (17%)]\tLoss: 0.055421\n",
            "Train Epoch: 2 [19968/60000 (33%)]\tLoss: 0.041307\n",
            "Train Epoch: 2 [29952/60000 (50%)]\tLoss: 0.081606\n",
            "Train Epoch: 2 [39936/60000 (67%)]\tLoss: 0.026036\n",
            "Train Epoch: 2 [49920/60000 (83%)]\tLoss: 0.069098\n",
            "Train Epoch: 2 [59904/60000 (100%)]\tLoss: 0.007368\n",
            "\n",
            "Test set: Average loss: 0.0424, Accuracy: (99%)\n",
            "\n",
            "Train Epoch: 3 [0/60000 (0%)]\tLoss: 0.014932\n",
            "Train Epoch: 3 [9984/60000 (17%)]\tLoss: 0.136826\n",
            "Train Epoch: 3 [19968/60000 (33%)]\tLoss: 0.024148\n",
            "Train Epoch: 3 [29952/60000 (50%)]\tLoss: 0.040639\n",
            "Train Epoch: 3 [39936/60000 (67%)]\tLoss: 0.011603\n",
            "Train Epoch: 3 [49920/60000 (83%)]\tLoss: 0.021900\n",
            "Train Epoch: 3 [59904/60000 (100%)]\tLoss: 0.015174\n",
            "\n",
            "Test set: Average loss: 0.0431, Accuracy: (99%)\n",
            "\n",
            "Train Epoch: 4 [0/60000 (0%)]\tLoss: 0.035343\n",
            "Train Epoch: 4 [9984/60000 (17%)]\tLoss: 0.004617\n",
            "Train Epoch: 4 [19968/60000 (33%)]\tLoss: 0.069417\n",
            "Train Epoch: 4 [29952/60000 (50%)]\tLoss: 0.153191\n",
            "Train Epoch: 4 [39936/60000 (67%)]\tLoss: 0.060338\n",
            "Train Epoch: 4 [49920/60000 (83%)]\tLoss: 0.043258\n",
            "Train Epoch: 4 [59904/60000 (100%)]\tLoss: 0.008237\n",
            "\n",
            "Test set: Average loss: 0.0296, Accuracy: (99%)\n",
            "\n",
            "Train Epoch: 5 [0/60000 (0%)]\tLoss: 0.046699\n",
            "Train Epoch: 5 [9984/60000 (17%)]\tLoss: 0.043473\n",
            "Train Epoch: 5 [19968/60000 (33%)]\tLoss: 0.008691\n",
            "Train Epoch: 5 [29952/60000 (50%)]\tLoss: 0.038424\n",
            "Train Epoch: 5 [39936/60000 (67%)]\tLoss: 0.048721\n",
            "Train Epoch: 5 [49920/60000 (83%)]\tLoss: 0.036003\n",
            "Train Epoch: 5 [59904/60000 (100%)]\tLoss: 0.008612\n",
            "\n",
            "Test set: Average loss: 0.0294, Accuracy: (99%)\n",
            "\n",
            "Train Epoch: 6 [0/60000 (0%)]\tLoss: 0.036490\n",
            "Train Epoch: 6 [9984/60000 (17%)]\tLoss: 0.000992\n",
            "Train Epoch: 6 [19968/60000 (33%)]\tLoss: 0.072068\n",
            "Train Epoch: 6 [29952/60000 (50%)]\tLoss: 0.007299\n",
            "Train Epoch: 6 [39936/60000 (67%)]\tLoss: 0.049511\n",
            "Train Epoch: 6 [49920/60000 (83%)]\tLoss: 0.090477\n",
            "Train Epoch: 6 [59904/60000 (100%)]\tLoss: 0.002359\n",
            "\n",
            "Test set: Average loss: 0.0376, Accuracy: (99%)\n",
            "\n",
            "Train Epoch: 7 [0/60000 (0%)]\tLoss: 0.006937\n",
            "Train Epoch: 7 [9984/60000 (17%)]\tLoss: 0.008803\n",
            "Train Epoch: 7 [19968/60000 (33%)]\tLoss: 0.005808\n",
            "Train Epoch: 7 [29952/60000 (50%)]\tLoss: 0.002339\n",
            "Train Epoch: 7 [39936/60000 (67%)]\tLoss: 0.001925\n",
            "Train Epoch: 7 [49920/60000 (83%)]\tLoss: 0.000669\n",
            "Train Epoch: 7 [59904/60000 (100%)]\tLoss: 0.042329\n",
            "\n",
            "Test set: Average loss: 0.0291, Accuracy: (99%)\n",
            "\n",
            "Train Epoch: 8 [0/60000 (0%)]\tLoss: 0.003440\n",
            "Train Epoch: 8 [9984/60000 (17%)]\tLoss: 0.001306\n",
            "Train Epoch: 8 [19968/60000 (33%)]\tLoss: 0.018580\n",
            "Train Epoch: 8 [29952/60000 (50%)]\tLoss: 0.013082\n",
            "Train Epoch: 8 [39936/60000 (67%)]\tLoss: 0.000186\n",
            "Train Epoch: 8 [49920/60000 (83%)]\tLoss: 0.007772\n",
            "Train Epoch: 8 [59904/60000 (100%)]\tLoss: 0.009957\n",
            "\n",
            "Test set: Average loss: 0.0288, Accuracy: (99%)\n",
            "\n",
            "Train Epoch: 9 [0/60000 (0%)]\tLoss: 0.003385\n",
            "Train Epoch: 9 [9984/60000 (17%)]\tLoss: 0.002812\n",
            "Train Epoch: 9 [19968/60000 (33%)]\tLoss: 0.004760\n",
            "Train Epoch: 9 [29952/60000 (50%)]\tLoss: 0.015788\n",
            "Train Epoch: 9 [39936/60000 (67%)]\tLoss: 0.008529\n",
            "Train Epoch: 9 [49920/60000 (83%)]\tLoss: 0.004780\n",
            "Train Epoch: 9 [59904/60000 (100%)]\tLoss: 0.002637\n",
            "\n",
            "Test set: Average loss: 0.0273, Accuracy: (99%)\n",
            "\n",
            "Train Epoch: 10 [0/60000 (0%)]\tLoss: 0.002905\n",
            "Train Epoch: 10 [9984/60000 (17%)]\tLoss: 0.002382\n",
            "Train Epoch: 10 [19968/60000 (33%)]\tLoss: 0.005333\n",
            "Train Epoch: 10 [29952/60000 (50%)]\tLoss: 0.150341\n",
            "Train Epoch: 10 [39936/60000 (67%)]\tLoss: 0.009719\n",
            "Train Epoch: 10 [49920/60000 (83%)]\tLoss: 0.059289\n",
            "Train Epoch: 10 [59904/60000 (100%)]\tLoss: 0.030681\n",
            "\n",
            "Test set: Average loss: 0.0271, Accuracy: (99%)\n",
            "\n"
          ],
          "name": "stdout"
        },
        {
          "output_type": "display_data",
          "data": {
            "image/png": "[encoded data removed]",
            "text/plain": [
              "<Figure size 432x288 with 1 Axes>"
            ]
          },
          "metadata": {
            "tags": [],
            "needs_background": "light"
          }
        },
        {
          "output_type": "display_data",
          "data": {
            "image/png": "[encoded data removed]",
            "text/plain": [
              "<Figure size 432x288 with 1 Axes>"
            ]
          },
          "metadata": {
            "tags": [],
            "needs_background": "light"
          }
        }
      ]
    },
    {
      "cell_type": "markdown",
      "metadata": {
        "id": "ubz4rUMsEUEe"
      },
      "source": [
        "Importam dataset-ul"
      ]
    },
    {
      "cell_type": "code",
      "metadata": {
        "id": "WJIeWQ6zEGUj"
      },
      "source": [
        "import pickle\n",
        "\n",
        "def get_large_dataset(path, max_batch_idx=100, shuffle=False,first_k=5000):\n",
        "  with open(path,'rb') as handle:\n",
        "    data = pickle.load(handle)\n",
        "\n",
        "\n",
        "  np_dataset_large  = np.expand_dims(data['images'],1)[:first_k]\n",
        "  np_dataset_count = data['no_count'].astype(np.long)[:first_k]\n",
        "\n",
        "\n",
        "  from torch.utils.data import TensorDataset\n",
        "  from torch.utils.data import DataLoader\n",
        "  dataset_large, dataset_count = map(torch.tensor, \n",
        "                (np_dataset_large, np_dataset_count))\n",
        "  dataset_large = dataset_large.to(device)\n",
        "  dataset_count = dataset_count.to(device)\n",
        "\n",
        "  large_dataset = TensorDataset(dataset_large, dataset_count)\n",
        "  large_data_loader = DataLoader(large_dataset, \n",
        "       batch_size=args.batch_size, shuffle=shuffle, drop_last=True)\n",
        "  return large_data_loader\n",
        "\n",
        "path_train = '/content/gdrive/MyDrive/DL/mnist_count_train.pickle'\n",
        "path_test = '/content/gdrive/MyDrive/DL/mnist_count_test.pickle'\n",
        "\n",
        "large_data_loader_train_20 = get_large_dataset(path_train,max_batch_idx=50,shuffle=True, first_k=1000)\n",
        "large_data_loader_train_50 = get_large_dataset(path_train,max_batch_idx=50,shuffle=True, first_k=2500)\n",
        "large_data_loader_train_100 = get_large_dataset(path_train,max_batch_idx=50,shuffle=True, first_k=5000)\n",
        "large_data_loaders_train = [large_data_loader_train_20, large_data_loader_train_50, large_data_loader_train_100]\n",
        "\n",
        "large_data_loader_test = get_large_dataset(path_test,max_batch_idx=50)"
      ],
      "execution_count": null,
      "outputs": []
    },
    {
      "cell_type": "markdown",
      "metadata": {
        "id": "fvVnm0_nExBh"
      },
      "source": [
        "Modificam CNN ul sa fie full conv"
      ]
    },
    {
      "cell_type": "code",
      "metadata": {
        "id": "kTU2YeKrEu8x"
      },
      "source": [
        "# design the fully convolutional network   \n",
        "# the first two conv layers should be the same as the original classification conv layers\n",
        "# the last two conv layers should be transformed from the last two fully connected layers in the original network\n",
        "class CNN_fully_conv(nn.Module):\n",
        "    def __init__(self):\n",
        "        super().__init__()\n",
        "        self.conv1 = nn.Conv2d(1, no_filters1, 5, 1)\n",
        "        self.conv2 = nn.Conv2d(no_filters1, no_filter2, 5, 1)\n",
        "        self.fully_conv1  = nn.Conv2d(no_filter2,no_neurons1, 4)\n",
        "        self.fully_conv2 = nn.Conv2d(no_neurons1,10, 1)\n",
        "\n",
        "\n",
        "    def forward(self, x):\n",
        "        x = F.relu(self.conv1(x))\n",
        "        x = F.max_pool2d(x, 2, 2)\n",
        "        x = F.relu(self.conv2(x))\n",
        "        x = F.max_pool2d(x, 2, 2)\n",
        "        x = F.relu(self.fully_conv1(x))\n",
        "        x = self.fully_conv2(x)\n",
        "        x = x.view(args.batch_size, 10, -1)\n",
        "        return F.softmax(x, dim=2)\n",
        "        #si val neg"
      ],
      "execution_count": null,
      "outputs": []
    },
    {
      "cell_type": "markdown",
      "metadata": {
        "id": "w1jSMWTaFdEG"
      },
      "source": [
        "Modificam modelul de mai devreme"
      ]
    },
    {
      "cell_type": "code",
      "metadata": {
        "colab": {
          "base_uri": "https://localhost:8080/"
        },
        "id": "XbFy5AtUFZcS",
        "outputId": "46bb3589-d0bb-4e81-bac9-c386fb0ec5ed"
      },
      "source": [
        "# data should be in [0,1]\n",
        "def preprocess(data):\n",
        "  return data.float() / 255.0\n",
        "print(\"Model's state_dict:\")\n",
        "for param_tensor in model.state_dict():\n",
        "    print(param_tensor, \"\\t\", model.state_dict()[param_tensor].size())\n",
        "\n",
        "# define the fully_conv model\n",
        "model_fuly_conv = CNN_fully_conv()\n",
        "PATH = 'mnist.pt'\n",
        "# load classification model\n",
        "loaded_state_dict = torch.load(PATH)\n",
        "\n",
        "# loaded_state_dict contain the weights of the classification model\n",
        "# For the fully_conv model we will use exactly the same parameters.\n",
        "# For the convolutional part we can directly load them as they have the same name.\n",
        "\n",
        "# We need to convert the last fully-connected layers into convolutions\n",
        "# For a single neuron we would just reshape the parameters from a vector into a kernel. \n",
        "# We just need to know what is the spatial dimension of the original fully-connected input.\n",
        "# In our case, the first fully-connected had an input of size 4 x 4 x no_filter2, so we must use kernels of size 4 x 4 x no_filter2\n",
        "# The second fully-connected receives as input just a vector(1x1 spatial dimension) of size no_neurons1 thus we use kernels of size 1 x 1 x no_neurons1\n",
        "model_dict = {}\n",
        "for key,val in loaded_state_dict.items():\n",
        "  key = key.replace('fc','fully_conv')\n",
        "  print(f'key: {key}')\n",
        "  if 'fully_conv1.weight' in key:\n",
        "    val = val.view(-1,no_filter2,4,4)\n",
        "  if 'fully_conv2.weigh' in key:\n",
        "    val = val.view(-1,no_neurons1,1,1)\n",
        "  model_dict[key] = val\n",
        "  \n",
        "model_fuly_conv.load_state_dict(model_dict)\n",
        "model_fuly_conv = model_fuly_conv.to(device)\n",
        "\n",
        "print(model_fuly_conv.parameters)"
      ],
      "execution_count": null,
      "outputs": [
        {
          "output_type": "stream",
          "text": [
            "Model's state_dict:\n",
            "conv1.weight \t torch.Size([20, 1, 5, 5])\n",
            "conv1.bias \t torch.Size([20])\n",
            "conv2.weight \t torch.Size([50, 20, 5, 5])\n",
            "conv2.bias \t torch.Size([50])\n",
            "fc1.weight \t torch.Size([500, 800])\n",
            "fc1.bias \t torch.Size([500])\n",
            "fc2.weight \t torch.Size([10, 500])\n",
            "fc2.bias \t torch.Size([10])\n",
            "key: conv1.weight\n",
            "key: conv1.bias\n",
            "key: conv2.weight\n",
            "key: conv2.bias\n",
            "key: fully_conv1.weight\n",
            "key: fully_conv1.bias\n",
            "key: fully_conv2.weight\n",
            "key: fully_conv2.bias\n",
            "<bound method Module.parameters of CNN_fully_conv(\n",
            "  (conv1): Conv2d(1, 20, kernel_size=(5, 5), stride=(1, 1))\n",
            "  (conv2): Conv2d(20, 50, kernel_size=(5, 5), stride=(1, 1))\n",
            "  (fully_conv1): Conv2d(50, 500, kernel_size=(4, 4), stride=(1, 1))\n",
            "  (fully_conv2): Conv2d(500, 10, kernel_size=(1, 1), stride=(1, 1))\n",
            ")>\n"
          ],
          "name": "stdout"
        }
      ]
    },
    {
      "cell_type": "code",
      "metadata": {
        "colab": {
          "base_uri": "https://localhost:8080/"
        },
        "id": "aQRkuzSkFkfA",
        "outputId": "8be2c97d-d3ab-4837-80cc-eb35cced87b6"
      },
      "source": [
        "acc = 0\n",
        "# mae = 0\n",
        "for batch_idx, (large_imgs, target_counts) in enumerate(large_data_loader_test):\n",
        "  prob = 0\n",
        "  threshold = 0.85\n",
        "  print(f'Batch id: {batch_idx}')\n",
        "  large_imgs = preprocess(large_imgs)\n",
        "  out_prob_maps = model_fuly_conv(large_imgs)\n",
        "\n",
        "  max_ind = torch.sum(torch.max(out_prob_maps.view(args.batch_size,10,-1),dim=2)[0] >= threshold, dim = 1).float()\n",
        "  prob = prob + max_ind\n",
        "  acc = acc + torch.sum(prob == target_counts)/64\n",
        "\n",
        "  # loss = torch.nn.L1Loss()\n",
        "  # mae += loss(target_counts, prob)\n",
        "\n",
        "acc = (acc / (batch_idx + 1) * 100)\n",
        "# mae = mae / (batch_idx + 1)\n",
        "print(acc)\n"
      ],
      "execution_count": null,
      "outputs": [
        {
          "output_type": "stream",
          "text": [
            "Batch id: 0\n",
            "Batch id: 1\n",
            "Batch id: 2\n",
            "Batch id: 3\n",
            "Batch id: 4\n",
            "Batch id: 5\n",
            "Batch id: 6\n",
            "Batch id: 7\n",
            "Batch id: 8\n",
            "Batch id: 9\n",
            "Batch id: 10\n",
            "Batch id: 11\n",
            "Batch id: 12\n",
            "Batch id: 13\n",
            "Batch id: 14\n",
            "tensor(26.7708, device='cuda:0')\n"
          ],
          "name": "stdout"
        }
      ]
    },
    {
      "cell_type": "code",
      "metadata": {
        "id": "38zT5eJgHx-Y"
      },
      "source": [
        "class CNN_2(nn.Module):\n",
        "  def __init__(self):\n",
        "      super().__init__()\n",
        "      self.conv1 = nn.Conv2d(1, no_filters1, 5, 1)\n",
        "      self.conv2 = nn.Conv2d(no_filters1, no_filter2, 5, 1)\n",
        "      self.fully_conv1  = nn.Conv2d(no_filter2,no_neurons1, 4)\n",
        "      self.fully_conv2_new = nn.Conv2d(no_neurons1,10, 1)\n",
        "      # add a linear layer \n",
        "      self.linear_loc = nn.Linear(19*19*10,5)\n",
        "\n",
        "\n",
        "  def forward(self, xb):\n",
        "      x = xb.view(-1, 1, xb.shape[2], xb.shape[3])\n",
        "      x = F.relu(self.conv1(x))\n",
        "      x = F.max_pool2d(x, 2, 2)\n",
        "      x = F.relu(self.conv2(x))\n",
        "      x = F.max_pool2d(x, 2, 2)\n",
        "      x = F.relu(self.fully_conv1(x))\n",
        "      self.conv_act = self.fully_conv2_new(x).view(args.batch_size,-1)\n",
        "      self.lin = self.linear_loc(self.conv_act)\n",
        "      x = F.log_softmax(self.lin, dim=1)\n",
        "\n",
        "      return x"
      ],
      "execution_count": null,
      "outputs": []
    },
    {
      "cell_type": "code",
      "metadata": {
        "id": "Yf8geBx3OBC2"
      },
      "source": [
        "def train_new(args, model, device, train_loader, optimizer, epoch):\n",
        "    model.train()\n",
        "    all_losses = []\n",
        "    for batch_idx, (data, target) in enumerate(train_loader):\n",
        "        # put the data on the GPU\n",
        "        data, target = data.to(device), target.to(device)\n",
        "        data = preprocess(data)\n",
        "        target = target.long() - 1\n",
        "    \n",
        "        # initialize as zeros all the gradients of the model\n",
        "        optimizer.zero_grad()\n",
        "        \n",
        "        # obtain the predictions in the FORWARD pass of the network\n",
        "        output = model(data)\n",
        "        # compute average LOSS for the current batch\n",
        "        loss = F.nll_loss(output, target)\n",
        "        all_losses.append(loss.detach().cpu().numpy())\n",
        "        # BACKPROPAGATE the gradients\n",
        "        loss.backward()\n",
        "        # use the computed gradients to OPTIMISE the model\n",
        "        optimizer.step()\n",
        "        # print the training loss of each batch\n",
        "        if batch_idx % args.log_interval == 0:\n",
        "            print('Train Epoch: {} [{}/{} ({:.0f}%)]\\tLoss: {:.6f}'.format(\n",
        "                epoch, batch_idx * len(data), len(train_loader.dataset),\n",
        "                100. * batch_idx / len(train_loader), loss.item()))\n",
        "    return np.array(all_losses).mean()\n",
        " \n",
        "def test_new(args, model, device, test_loader):\n",
        "    model.eval()\n",
        "    test_loss = 0\n",
        "    correct = 0\n",
        "    with torch.no_grad():\n",
        "        num_iter = 0\n",
        "        for data, target in test_loader:\n",
        "            data, target = data.to(device), target.to(device)\n",
        "            target = target.long() - 1\n",
        "            data = preprocess(data)\n",
        "            # obtain the prediction by a forward pass\n",
        "            output = model(data)\n",
        "            # calculate the loss for the current batch and add it across the entire dataset\n",
        "            test_loss += F.nll_loss(output, target) # sum up batch loss\n",
        "            # compute the accuracy of the predictions across the entire dataset\n",
        "            # get the most probable prediction\n",
        "            pred = output.argmax(dim=1, keepdim=True) # get the index of the max log-probability\n",
        "            correct += pred.eq(target.view_as(pred)).float().mean().item()\n",
        "            num_iter += 1\n",
        "    test_loss /= num_iter\n",
        "    test_accuracy = 100. * correct / num_iter\n",
        "    # print the Accuracy for the entire dataset\n",
        "    print('\\nTest set: Average loss: {:.4f}, Accuracy: ({:.0f}%)\\n'.format(\n",
        "        test_loss,\n",
        "        test_accuracy))\n",
        "    return test_loss, test_accuracy"
      ],
      "execution_count": null,
      "outputs": []
    },
    {
      "cell_type": "code",
      "metadata": {
        "id": "RIDDzEDiivjt"
      },
      "source": [
        "def plot_acc(acc, data, label, color='blue'):\n",
        "    pyplot.plot(acc, data, label=label, color=color)\n",
        "    pyplot.legend()"
      ],
      "execution_count": null,
      "outputs": []
    },
    {
      "cell_type": "code",
      "metadata": {
        "id": "YVr_ew0AOVqF"
      },
      "source": [
        "# save classification model\n",
        "PATH = 'mnist.pt'\n",
        "torch.save(model.state_dict(), PATH)\n",
        " \n",
        "# we will train 2 models, one with random initialisation, \n",
        "# one with parameters initialised from the classification network\n",
        "loc_model_scratch = CNN_2()\n",
        "loc_model_pretrained = CNN_2()\n",
        " \n",
        "# convert the fully-connected into convolutional layers\n",
        "loaded_state_dict = torch.load(PATH)\n",
        "model_dict = {}\n",
        "for key,val in loaded_state_dict.items():\n",
        "  key = key.replace('fc','fully_conv')\n",
        "  print(f'key: {key}')\n",
        "  if 'fully_conv1.weight' in key:\n",
        "    val = val.view(-1,no_filter2,4,4)\n",
        "  if 'fully_conv2.weigh' in key:\n",
        "    val = val.view(-1,no_neurons1,1,1)\n",
        "  model_dict[key] = val\n",
        " \n",
        " \n",
        "loc_model_scratch = loc_model_scratch.to(device)\n",
        "# load pretrained classification parameters into localisation model\n",
        "loc_model_pretrained.load_state_dict(model_dict, strict=False)\n",
        "loc_model_pretrained = loc_model_pretrained.to(device)\n",
        " \n",
        " \n",
        "loc_model_pretrained.linear_loc.weight.data\n",
        " \n",
        "optimizer_sgd_scratch = optim.SGD(\n",
        "    loc_model_scratch.parameters(), lr=args.lr, momentum=args.momentum)\n",
        "\n",
        "optimizer_adam_scratch = optim.Adam(\n",
        "    loc_model_scratch.parameters(), lr=0.001)\n",
        "\n",
        "optimizer_adam_scratch_2 = optim.Adam(\n",
        "    loc_model_scratch.parameters(), lr=0.001, weight_decay=1e-5)\n",
        "\n",
        "optimizer_sgd_pretrained = optim.SGD(\n",
        "    loc_model_pretrained.parameters(), lr=args.lr, momentum=args.momentum)\n",
        "\n",
        "optimizer_adam_pretrained = optim.Adam(\n",
        "    loc_model_pretrained.parameters(), lr=0.001)\n",
        "\n",
        "optimizer_adam_pretrained_2 = optim.Adam(\n",
        "    loc_model_pretrained.parameters(), lr=0.001, betas=(0.9, 0.999), weight_decay=1e-5)\n",
        "\n",
        "optimizer_loc_scratch = [optimizer_sgd_scratch, optimizer_adam_scratch, optimizer_adam_scratch_2]\n",
        "\n",
        "optimizer_loc_pretrained = [optimizer_sgd_pretrained, optimizer_adam_pretrained, optimizer_adam_pretrained_2]\n",
        " \n",
        "acc_test = []\n",
        "acc_test_pre = []\n",
        "for i in large_data_loaders_train:\n",
        "    print(f'For: {i}')\n",
        "\n",
        "    losses_train = []\n",
        "    losses_test = []\n",
        "\n",
        "    for epoch in range(1, 10):\n",
        "      \n",
        "        # print(f'Scratch epoch: {epoch}')\n",
        "        train_loss = train_new(args, loc_model_scratch, device, i, optimizer_loc_scratch[1], epoch)\n",
        "        test_loss, test_acc  = test_new(args, loc_model_scratch, device, large_data_loader_test)\n",
        "        \n",
        "        losses_train.append(train_loss)\n",
        "        losses_test.append(test_loss)\n",
        "    acc_test.append(test_acc)\n",
        "\n",
        " \n",
        "    losses_train_pre = []\n",
        "    losses_test_pre = []\n",
        "\n",
        "\n",
        "    for epoch in range(1, 10):\n",
        "        # print(f'Pretrained epoch: {epoch}')\n",
        "        train_loss = train_new(args, loc_model_pretrained, device, i, optimizer_loc_pretrained[1], epoch)\n",
        "        test_loss, test_acc = test_new(args, loc_model_pretrained, device, large_data_loader_test)\n",
        "                \n",
        "        losses_train_pre.append(train_loss)\n",
        "        losses_test_pre.append(test_loss)\n",
        "    acc_test_pre.append(test_acc)\n",
        "    \n",
        "print(\"acc:\", acc_test)\n",
        "print(\"acc_pre:\",acc_test_pre)\n",
        "\n",
        "pyplot.figure(1)\n",
        "plot_loss(losses_train,'scratch_train_loss','red')\n",
        "plot_loss(losses_test,'scratch_test_loss')\n",
        "\n",
        "    \n",
        "plot_loss(losses_train_pre,'pretrained_train_loss','pink')\n",
        "plot_loss(losses_test_pre,'pretrained_test_loss','green')\n",
        "\n",
        "data = [1000, 2500, 5000]\n",
        "pyplot.figure(2)\n",
        "plot_acc(data,acc_test, 'test_accuracy_scratch','red')\n",
        "plot_acc(data, acc_test_pre, 'test_accuracy_pretrained')"
      ],
      "execution_count": null,
      "outputs": []
    },
    {
      "cell_type": "markdown",
      "metadata": {
        "id": "f92fYpJj1rQT"
      },
      "source": [
        "Am modificat lr din 0.01 in 0.001 ( am incercat mai multe dar acesta a fost cel mai bun )"
      ]
    },
    {
      "cell_type": "markdown",
      "metadata": {
        "id": "1_xvzOIP6uIt"
      },
      "source": [
        "Cu weight_decay=1e-5 si betas=(0.9, 0.999) am o acc de ~21 pe pretrained si 74.7 pe scratch, iar doar cu lr = 0.001 am  ~70 pe scratch si ~59 pe pretrained"
      ]
    }
  ]
}