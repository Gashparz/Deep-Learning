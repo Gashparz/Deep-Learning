{
  "nbformat": 4,
  "nbformat_minor": 0,
  "metadata": {
    "colab": {
      "name": "price_prediction.ipynb",
      "provenance": [],
      "collapsed_sections": []
    },
    "kernelspec": {
      "name": "python3",
      "display_name": "Python 3"
    }
  },
  "cells": [
    {
      "cell_type": "code",
      "metadata": {
        "id": "LABT19f5HOUU"
      },
      "source": [
        "import io\n",
        "import torch\n",
        "import torchvision\n",
        "import torch.nn as nn\n",
        "import pandas as pd\n",
        "import matplotlib.pyplot as plt\n",
        "import torch.nn.functional as F\n",
        "import seaborn as sns\n",
        "from torchvision.datasets.utils import download_url\n",
        "from torch.utils.data import DataLoader, TensorDataset, random_split\n",
        "from functools import partial\n",
        "from IPython.display import HTML\n",
        "import math\n",
        "import matplotlib.pyplot as plt\n",
        "from matplotlib import animation, rc\n",
        "import numpy as np\n",
        "from sklearn.datasets import make_regression\n",
        "from sklearn.linear_model import LinearRegression\n",
        "import torch\n",
        "import torch.nn as nn\n",
        "import sklearn\n",
        "import torch.nn.functional as F\n",
        "import tensorflow as tf\n",
        "from sklearn.metrics import confusion_matrix\n",
        "from sklearn.preprocessing import StandardScaler\n",
        "from sklearn import preprocessing\n",
        "from sklearn.model_selection import train_test_split"
      ],
      "execution_count": null,
      "outputs": []
    },
    {
      "cell_type": "code",
      "metadata": {
        "colab": {
          "resources": {
            "http://localhost:8080/nbextensions/google.colab/files.js": {
              "data": "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",
              "ok": true,
              "headers": [
                [
                  "content-type",
                  "application/javascript"
                ]
              ],
              "status": 200,
              "status_text": ""
            }
          },
          "base_uri": "https://localhost:8080/",
          "height": 72
        },
        "id": "E-gXC2iEMJz6",
        "outputId": "c6b7c1c8-2283-44f7-850a-157bfb8624de"
      },
      "source": [
        "from google.colab import files\n",
        "uploaded = files.upload()"
      ],
      "execution_count": null,
      "outputs": [
        {
          "output_type": "display_data",
          "data": {
            "text/html": [
              "\n",
              "     <input type=\"file\" id=\"files-f8c0f1d7-777f-4987-8497-66376904e849\" name=\"files[]\" multiple disabled\n",
              "        style=\"border:none\" />\n",
              "     <output id=\"result-f8c0f1d7-777f-4987-8497-66376904e849\">\n",
              "      Upload widget is only available when the cell has been executed in the\n",
              "      current browser session. Please rerun this cell to enable.\n",
              "      </output>\n",
              "      <script src=\"/nbextensions/google.colab/files.js\"></script> "
            ],
            "text/plain": [
              "<IPython.core.display.HTML object>"
            ]
          },
          "metadata": {
            "tags": []
          }
        },
        {
          "output_type": "stream",
          "text": [
            "Saving Bucharest_HousePriceDataset.csv to Bucharest_HousePriceDataset (1).csv\n"
          ],
          "name": "stdout"
        }
      ]
    },
    {
      "cell_type": "markdown",
      "metadata": {
        "id": "vUUdx2phIQzS"
      },
      "source": [
        "Folosim functia upload de la google colab pentru a citi fisierul"
      ]
    },
    {
      "cell_type": "code",
      "metadata": {
        "colab": {
          "base_uri": "https://localhost:8080/"
        },
        "id": "-XYsTvUMHWXE",
        "outputId": "5bea381e-719d-4787-c396-e0963a4b9009"
      },
      "source": [
        "df1 = pd.read_csv(io.BytesIO(uploaded['Bucharest_HousePriceDataset.csv']), delimiter=',')\n",
        "print(df1)"
      ],
      "execution_count": null,
      "outputs": [
        {
          "output_type": "stream",
          "text": [
            "      Nr Camere  Suprafata  Etaj  Total Etaje  Sector  Scor    Pret\n",
            "0             4     108.00     2            3       4     5   83000\n",
            "1             1      41.00     1            8       1     1   39900\n",
            "2             3      63.52     1            3       2     3   84900\n",
            "3             1      33.00     3           10       5     1   45500\n",
            "4             2      62.00     5            9       5     5   54900\n",
            "...         ...        ...   ...          ...     ...   ...     ...\n",
            "3524          3     102.00     2            5       1     1  189000\n",
            "3525          4      96.00     1            3       3     2  200000\n",
            "3526          1      35.00     1            3       4     5   47000\n",
            "3527          2      60.00     6            7       1     2   89500\n",
            "3528          3      80.00     3            5       1     2  139000\n",
            "\n",
            "[3529 rows x 7 columns]\n"
          ],
          "name": "stdout"
        }
      ]
    },
    {
      "cell_type": "code",
      "metadata": {
        "id": "3jRVO_jwIH1L"
      },
      "source": [
        "class GDLinearRegression(nn.Module):\n",
        "  def __init__(self):\n",
        "    super().__init__()\n",
        "\n",
        "    self.w = nn.Parameter(torch.randn(6, requires_grad = True))\n",
        "    self.b = nn.Parameter(torch.randn(1, requires_grad = True))\n",
        "\n",
        "  def __call__(self, x: torch.Tensor) -> torch.Tensor:\n",
        "    x = torch.Tensor(x)\n",
        "    result = x @ self.w+self.b\n",
        "    return result\n",
        "\n",
        "  def zero_grad(self):\n",
        "    self.w.grad.zero_()\n",
        "    self.b.grad.zero_()"
      ],
      "execution_count": null,
      "outputs": []
    },
    {
      "cell_type": "code",
      "metadata": {
        "id": "Ei4vxdWulUWi"
      },
      "source": [
        "class MSE():\n",
        "  \n",
        "  def __call__(self, x: torch.Tensor, target: torch.Tensor) -> torch.Tensor:\n",
        "    x = torch.Tensor(x)\n",
        "    target = torch.Tensor(target)\n",
        "    mse = ((x-target)**2).sum().sqrt().mean()\n",
        "    return mse"
      ],
      "execution_count": null,
      "outputs": []
    },
    {
      "cell_type": "code",
      "metadata": {
        "id": "MSTF-zvglVnC"
      },
      "source": [
        "class GD():\n",
        "  \"\"\"Gradient Descent optimizer\"\"\"\n",
        "\n",
        "  def __init__(self, params: torch.Tensor, lr: int):\n",
        "    self.w, self.b = list(params)\n",
        "    self.lr = lr\n",
        "\n",
        "\n",
        "  def step(self):\n",
        "    self.w -= self.lr*self.w.grad\n",
        "\n",
        "    self.b -= self.lr*self.b.grad \n"
      ],
      "execution_count": null,
      "outputs": []
    },
    {
      "cell_type": "code",
      "metadata": {
        "id": "DUn__XaBleaK"
      },
      "source": [
        "def train(model: GDLinearRegression, data: torch.Tensor, \n",
        "          labels: torch.Tensor, optim: GD, criterion: MSE):\n",
        "\n",
        "  predictions = model(data)\n",
        "  loss = criterion(labels,predictions) \n",
        "  loss.backward() \n",
        "\n",
        "  \n",
        "  with torch.no_grad():\n",
        "    optim.step()\n",
        "    model.zero_grad()\n",
        "  \n",
        "  return model"
      ],
      "execution_count": null,
      "outputs": []
    },
    {
      "cell_type": "code",
      "metadata": {
        "colab": {
          "base_uri": "https://localhost:8080/"
        },
        "id": "Tr7iq91ulo4y",
        "outputId": "1f579bbd-8407-4c5e-a8cf-c45deafaddbd"
      },
      "source": [
        "X=df1.drop(columns='Nr Camere').values\n",
        "\n",
        "y=df1[['Nr Camere']].values.ravel()\n",
        "\n",
        "print(y)\n",
        "x_train, x_valid, y_train, y_valid = train_test_split(X,y, train_size = 0.8)\n",
        "\n",
        "std_scale = preprocessing.StandardScaler().fit(x_train)\n",
        "x_train = std_scale.transform(x_train)\n",
        "x_train = torch.tensor(x_train).float()\n",
        "\n",
        "#Folosim aceeasi deviatie standard de la training pentru test\n",
        "x_valid = std_scale.transform(x_valid)\n",
        "x_valid = torch.tensor(x_valid).float()\n",
        "\n",
        "mse = MSE()"
      ],
      "execution_count": null,
      "outputs": [
        {
          "output_type": "stream",
          "text": [
            "[4 1 3 ... 1 2 3]\n"
          ],
          "name": "stdout"
        }
      ]
    },
    {
      "cell_type": "code",
      "metadata": {
        "colab": {
          "base_uri": "https://localhost:8080/"
        },
        "id": "mma_K7pAl7_5",
        "outputId": "8b1c7a85-e467-41a1-e6a2-d2f1ab830f22"
      },
      "source": [
        "best_loss=10**1000\n",
        "best_lr = 0\n",
        "total_steps = 100\n",
        "for idx in np.linspace(0.001,20,100):\n",
        "    lr = idx\n",
        "    total_steps = 100\n",
        "\n",
        "    model = GDLinearRegression()\n",
        "    optimizer = GD(model.parameters(), lr=lr)\n",
        "    criterion = MSE()\n",
        "    \n",
        "    for i in range(total_steps):\n",
        "        train(model, x_train, y_train, optimizer, criterion)\n",
        "\n",
        "    with torch.no_grad():\n",
        "        y_pred = model(x_train)\n",
        "    if best_loss > mse(y_pred,y_train).item():\n",
        "        best_loss = mse(y_pred,y_train).item()\n",
        "        best_lr = idx\n",
        "    \n",
        "print(best_lr)"
      ],
      "execution_count": null,
      "outputs": [
        {
          "output_type": "stream",
          "text": [
            "0.001\n"
          ],
          "name": "stdout"
        }
      ]
    },
    {
      "cell_type": "code",
      "metadata": {
        "id": "3Prj1qcAmCVq"
      },
      "source": [
        "lr = best_lr\n",
        "total_steps = 500\n",
        "model = GDLinearRegression()\n",
        "optimizer = GD(model.parameters(), lr=lr)\n",
        "criterion = MSE()\n",
        "\n",
        "for i in range(total_steps):\n",
        "    train(model, x_train, y_train, optimizer, criterion)\n",
        "\n",
        "with torch.no_grad():\n",
        "    y_pred = model(x_train)"
      ],
      "execution_count": null,
      "outputs": []
    },
    {
      "cell_type": "markdown",
      "metadata": {
        "id": "j4hyytu-mQxf"
      },
      "source": [
        "Best lr\n"
      ]
    },
    {
      "cell_type": "code",
      "metadata": {
        "colab": {
          "base_uri": "https://localhost:8080/"
        },
        "id": "GNc0o3crmIHJ",
        "outputId": "adaa0e16-f398-45b7-efaf-7d061e9daca9"
      },
      "source": [
        "with torch.no_grad():\n",
        "    y_pred = model(x_train)\n",
        "predicted = torch.round(y_pred).numpy()\n",
        "accuracy = (predicted==y_train).sum()/predicted.shape[0]\n",
        "print(accuracy)"
      ],
      "execution_count": null,
      "outputs": [
        {
          "output_type": "stream",
          "text": [
            "0.6875664187035069\n"
          ],
          "name": "stdout"
        }
      ]
    },
    {
      "cell_type": "markdown",
      "metadata": {
        "id": "P-1ei1-DmaQK"
      },
      "source": [
        "Acc pe train"
      ]
    },
    {
      "cell_type": "code",
      "metadata": {
        "colab": {
          "base_uri": "https://localhost:8080/"
        },
        "id": "ltCbl5jwmYwK",
        "outputId": "60920fb2-2702-4f97-e2d2-4562129b84aa"
      },
      "source": [
        "with torch.no_grad():\n",
        "    y_pred = model(x_valid)\n",
        "predicted = torch.round(y_pred).numpy()\n",
        "accuracy = (predicted==y_valid).sum()/predicted.shape[0]\n",
        "print(accuracy)"
      ],
      "execution_count": null,
      "outputs": [
        {
          "output_type": "stream",
          "text": [
            "0.6827195467422096\n"
          ],
          "name": "stdout"
        }
      ]
    },
    {
      "cell_type": "markdown",
      "metadata": {
        "id": "hs4-yl5imgA4"
      },
      "source": [
        "Acc pe val"
      ]
    },
    {
      "cell_type": "code",
      "metadata": {
        "colab": {
          "base_uri": "https://localhost:8080/"
        },
        "id": "Gmu3z29EmkIJ",
        "outputId": "acad8000-6d46-4428-836c-e1ac3412bbfa"
      },
      "source": [
        "regression_matrix = confusion_matrix(predicted,y_valid)\n",
        "regression_mse = mse(predicted,y_valid)\n",
        "print(regression_matrix)\n"
      ],
      "execution_count": null,
      "outputs": [
        {
          "output_type": "stream",
          "text": [
            "[[ 13   0   0   0   0   0   0]\n",
            " [ 56 308  64   0   0   0   0]\n",
            " [  0  24 145  48   2   0   0]\n",
            " [  0   0  17  14   5   0   0]\n",
            " [  0   0   1   1   1   0   0]\n",
            " [  0   0   0   2   1   1   1]\n",
            " [  0   0   0   1   1   0   0]]\n"
          ],
          "name": "stdout"
        }
      ]
    },
    {
      "cell_type": "code",
      "metadata": {
        "id": "z_RQGidHzgUO"
      },
      "source": [
        "X=df1.drop(columns='Nr Camere').values\n",
        "\n",
        "y=df1[['Nr Camere']].values\n",
        "y=y-1\n",
        "x_train, x_valid, y_train, y_valid = train_test_split(X,y, train_size = 0.8)\n",
        "\n",
        "std_scale = preprocessing.StandardScaler().fit(x_train)\n",
        "x_train = std_scale.transform(x_train)\n",
        "x_train = torch.tensor(x_train).float()\n",
        "\n",
        "\n",
        "x_valid = std_scale.transform(x_valid)\n",
        "x_valid = torch.tensor(x_valid).float()"
      ],
      "execution_count": null,
      "outputs": []
    },
    {
      "cell_type": "code",
      "metadata": {
        "id": "DsPvkU_hzQlf"
      },
      "source": [
        "class TwoLayer(nn.Module):\n",
        "    def __init__(self, in_size: int, hidden_size: int, out_size: int):\n",
        "        super().__init__()\n",
        "        self._layer1 = nn.Linear(in_size, hidden_size)\n",
        "        self._layer2 = nn.Linear(hidden_size, out_size)\n",
        "    def forward(self, x):\n",
        "        x = self._layer1(x)\n",
        "        x = torch.relu(x)\n",
        "    \n",
        "        x = self._layer2(x)\n",
        "        return x"
      ],
      "execution_count": null,
      "outputs": []
    },
    {
      "cell_type": "code",
      "metadata": {
        "id": "dkcWYcUvzY8u"
      },
      "source": [
        "model = TwoLayer(6,5000,9)\n",
        "NUM_EPOCHS = 2000\n",
        "\n",
        "optim = torch.optim.SGD(model.parameters(), lr=2.5)\n",
        "for i in range(NUM_EPOCHS):\n",
        "    print(i)\n",
        "    model.train()\n",
        "    optim.zero_grad()\n",
        "    output = model(x_train)\n",
        "    criterion = nn.CrossEntropyLoss()\n",
        "    target = torch.tensor(y_train).long().squeeze(1)\n",
        "    print(target)\n",
        "    loss = criterion(output, target)\n",
        "    loss.backward()\n",
        "    optim.step()"
      ],
      "execution_count": null,
      "outputs": []
    },
    {
      "cell_type": "code",
      "metadata": {
        "colab": {
          "base_uri": "https://localhost:8080/"
        },
        "id": "1v6fPvvx2bMD",
        "outputId": "51e4fbf4-842d-4863-8905-5aaf2f89d6df"
      },
      "source": [
        "predicted = np.array(torch.argmax(model(x_train), dim=-1))\n",
        "accuracy = (predicted==y_train.ravel()).sum()/predicted.shape[0]\n",
        "print(accuracy)"
      ],
      "execution_count": null,
      "outputs": [
        {
          "output_type": "stream",
          "text": [
            "0.9036486007793127\n"
          ],
          "name": "stdout"
        }
      ]
    },
    {
      "cell_type": "code",
      "metadata": {
        "colab": {
          "base_uri": "https://localhost:8080/"
        },
        "id": "Y7h_zQxY2dsd",
        "outputId": "3e9f85c0-af5b-4f4f-98d4-6a04c78342db"
      },
      "source": [
        "predicted = np.array(torch.argmax(model(x_valid), dim=-1))\n",
        "accuracy = (predicted==y_valid.ravel()).sum()/predicted.shape[0]\n",
        "print(accuracy)"
      ],
      "execution_count": null,
      "outputs": [
        {
          "output_type": "stream",
          "text": [
            "0.7705382436260623\n"
          ],
          "name": "stdout"
        }
      ]
    },
    {
      "cell_type": "code",
      "metadata": {
        "colab": {
          "base_uri": "https://localhost:8080/"
        },
        "id": "miE3yUaPK7Pk",
        "outputId": "a325236a-78c6-4fa3-9402-073b25be7677"
      },
      "source": [
        "class_matrix = confusion_matrix(predicted,y_valid)\n",
        "class_mse = mse(predicted,y_valid)\n",
        "\n",
        "print(class_matrix)"
      ],
      "execution_count": null,
      "outputs": [
        {
          "output_type": "stream",
          "text": [
            "[[ 51   8   1   0   0   0   0]\n",
            " [ 23 270  42   2   0   0   0]\n",
            " [  0  22 184  17   0   0   0]\n",
            " [  0   2  30  37   5   0   0]\n",
            " [  0   0   5   1   2   2   2]\n",
            " [  0   0   0   0   0   0   0]\n",
            " [  0   0   0   0   0   0   0]]\n"
          ],
          "name": "stdout"
        }
      ]
    },
    {
      "cell_type": "code",
      "metadata": {
        "colab": {
          "base_uri": "https://localhost:8080/"
        },
        "id": "9xoDoQ06K4nF",
        "outputId": "796c2896-c116-4fd3-cc2a-f36bf49df14b"
      },
      "source": [
        "print('Clasificare Nr. Camere\\n', class_matrix)\n",
        "print('Regresie Nr. Camere\\n',regression_matrix)"
      ],
      "execution_count": null,
      "outputs": [
        {
          "output_type": "stream",
          "text": [
            "Clasificare Nr. Camere\n",
            " [[ 51   8   1   0   0   0   0]\n",
            " [ 23 270  42   2   0   0   0]\n",
            " [  0  22 184  17   0   0   0]\n",
            " [  0   2  30  37   5   0   0]\n",
            " [  0   0   5   1   2   2   2]\n",
            " [  0   0   0   0   0   0   0]\n",
            " [  0   0   0   0   0   0   0]]\n",
            "Regresie Nr. Camere\n",
            " [[ 13   0   0   0   0   0   0]\n",
            " [ 56 308  64   0   0   0   0]\n",
            " [  0  24 145  48   2   0   0]\n",
            " [  0   0  17  14   5   0   0]\n",
            " [  0   0   1   1   1   0   0]\n",
            " [  0   0   0   2   1   1   1]\n",
            " [  0   0   0   1   1   0   0]]\n"
          ],
          "name": "stdout"
        }
      ]
    },
    {
      "cell_type": "code",
      "metadata": {
        "colab": {
          "base_uri": "https://localhost:8080/"
        },
        "id": "mU2snwVPLaGs",
        "outputId": "9c98c832-84c5-4eaf-b680-5c97ce63a0ce"
      },
      "source": [
        "print('Clasificare scor\\n', class_mse)\n",
        "print('Regresie Nr. Camere\\n',regression_mse)"
      ],
      "execution_count": null,
      "outputs": [
        {
          "output_type": "stream",
          "text": [
            "Clasificare scor\n",
            " tensor(873.5365)\n",
            "Regresie Nr. Camere\n",
            " tensor(15.8114)\n"
          ],
          "name": "stdout"
        }
      ]
    }
  ]
}